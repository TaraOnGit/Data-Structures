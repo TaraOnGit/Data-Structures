{
  "nbformat": 4,
  "nbformat_minor": 0,
  "metadata": {
    "colab": {
      "provenance": []
    },
    "kernelspec": {
      "name": "python3",
      "display_name": "Python 3"
    },
    "language_info": {
      "name": "python"
    }
  },
  "cells": [
    {
      "cell_type": "markdown",
      "source": [
        "# 1D Arrays"
      ],
      "metadata": {
        "id": "KMdcWdeM7vxt"
      }
    },
    {
      "cell_type": "markdown",
      "source": [
        "## 1. Initializing a 1D Array (List)"
      ],
      "metadata": {
        "id": "QJWzJd7T73kN"
      }
    },
    {
      "cell_type": "code",
      "execution_count": 1,
      "metadata": {
        "colab": {
          "base_uri": "https://localhost:8080/"
        },
        "id": "u8t5OxIw7u-r",
        "outputId": "eb7a6d82-44b2-45d7-a1ef-6084da2dd175"
      },
      "outputs": [
        {
          "output_type": "stream",
          "name": "stdout",
          "text": [
            "[1, 2, 3, 4, 5]\n"
          ]
        }
      ],
      "source": [
        "arr = [1,2,3,4,5]\n",
        "print(arr)"
      ]
    },
    {
      "cell_type": "markdown",
      "source": [
        "## 2. Traverse and Print a 1D Array"
      ],
      "metadata": {
        "id": "ON_M_W038SAV"
      }
    },
    {
      "cell_type": "code",
      "source": [
        "arr = [1,2,3,4,5]\n",
        "\n",
        "for i in arr:\n",
        "  print(i)"
      ],
      "metadata": {
        "colab": {
          "base_uri": "https://localhost:8080/"
        },
        "id": "pdS673r977d-",
        "outputId": "15381e12-4da6-46c3-be2e-2a9abdd48130"
      },
      "execution_count": 2,
      "outputs": [
        {
          "output_type": "stream",
          "name": "stdout",
          "text": [
            "1\n",
            "2\n",
            "3\n",
            "4\n",
            "5\n"
          ]
        }
      ]
    },
    {
      "cell_type": "code",
      "source": [],
      "metadata": {
        "id": "iAj4YHYb8eKo"
      },
      "execution_count": null,
      "outputs": []
    },
    {
      "cell_type": "markdown",
      "source": [
        "## 3. Find the Largest Element in a 1D Array"
      ],
      "metadata": {
        "id": "6uDNr6bx8gU3"
      }
    },
    {
      "cell_type": "code",
      "source": [
        "arr = [2,1,3,5,4]\n",
        "\n",
        "largest = arr[0]\n",
        "\n",
        "for i in arr:\n",
        "  if i > largest:\n",
        "    largest = i\n",
        "print(largest)"
      ],
      "metadata": {
        "colab": {
          "base_uri": "https://localhost:8080/"
        },
        "id": "33xICxph8pPV",
        "outputId": "4c756dc7-0e04-452a-e340-a1efd0986720"
      },
      "execution_count": 3,
      "outputs": [
        {
          "output_type": "stream",
          "name": "stdout",
          "text": [
            "5\n"
          ]
        }
      ]
    },
    {
      "cell_type": "code",
      "source": [],
      "metadata": {
        "id": "9PZ0EvP683O6"
      },
      "execution_count": null,
      "outputs": []
    },
    {
      "cell_type": "markdown",
      "source": [
        "## 4. Find the Smallest Element in a 1D Array"
      ],
      "metadata": {
        "id": "TI9H5qfV846_"
      }
    },
    {
      "cell_type": "code",
      "source": [
        "arr = [3,2,1,4,5]\n",
        "\n",
        "smallest = arr[0]\n",
        "\n",
        "for i in arr:\n",
        "  if i < smallest:\n",
        "    smallest = i\n",
        "print(smallest)"
      ],
      "metadata": {
        "colab": {
          "base_uri": "https://localhost:8080/"
        },
        "id": "R98LbX5e8-Xn",
        "outputId": "84a1500c-fe15-482b-9a69-edd2af825655"
      },
      "execution_count": 4,
      "outputs": [
        {
          "output_type": "stream",
          "name": "stdout",
          "text": [
            "1\n"
          ]
        }
      ]
    },
    {
      "cell_type": "code",
      "source": [],
      "metadata": {
        "id": "5Xj_VWNn9KxD"
      },
      "execution_count": null,
      "outputs": []
    },
    {
      "cell_type": "markdown",
      "source": [
        "## 5. Sum of All Elements in a 1D Array"
      ],
      "metadata": {
        "id": "lqYZdB5Y9L6z"
      }
    },
    {
      "cell_type": "code",
      "source": [
        "arr = [2,2,3,4,1,6]\n",
        "\n",
        "s = 0\n",
        "\n",
        "for i in arr:\n",
        "  s += i\n",
        "print(s)"
      ],
      "metadata": {
        "colab": {
          "base_uri": "https://localhost:8080/"
        },
        "id": "vC28hGpc9RL-",
        "outputId": "089ef238-155d-4c77-e91f-68d613db707a"
      },
      "execution_count": 19,
      "outputs": [
        {
          "output_type": "stream",
          "name": "stdout",
          "text": [
            "18\n"
          ]
        }
      ]
    },
    {
      "cell_type": "code",
      "source": [],
      "metadata": {
        "id": "ggTKnDWZ9iQX"
      },
      "execution_count": null,
      "outputs": []
    },
    {
      "cell_type": "markdown",
      "source": [
        "## 6. Find the Index of an Element"
      ],
      "metadata": {
        "id": "qKEYrvuk9jlQ"
      }
    },
    {
      "cell_type": "code",
      "source": [
        "# find the index of element 34\n",
        "\n",
        "arr = [12,56,78,34,12,90,87,65,43]\n",
        "\n",
        "idx = arr.index(34)\n",
        "print(idx)"
      ],
      "metadata": {
        "colab": {
          "base_uri": "https://localhost:8080/"
        },
        "id": "5hjqtD_J90kg",
        "outputId": "50d47dcd-aa59-4955-cd40-04162f423222"
      },
      "execution_count": 8,
      "outputs": [
        {
          "output_type": "stream",
          "name": "stdout",
          "text": [
            "3\n"
          ]
        }
      ]
    },
    {
      "cell_type": "code",
      "source": [],
      "metadata": {
        "id": "769xH-hx-UAt"
      },
      "execution_count": null,
      "outputs": []
    },
    {
      "cell_type": "markdown",
      "source": [
        "## 7. Reverse a 1D Array"
      ],
      "metadata": {
        "id": "cc5GVveP-iRJ"
      }
    },
    {
      "cell_type": "code",
      "source": [
        "arr = [12,56,78,34,12,90,87,65,43]\n",
        "\n",
        "arr.reverse()\n",
        "print(arr)"
      ],
      "metadata": {
        "colab": {
          "base_uri": "https://localhost:8080/"
        },
        "id": "ufGGoEc9-kHy",
        "outputId": "4fe7e5a1-e4c6-4d72-8d9d-75919121bd0d"
      },
      "execution_count": 9,
      "outputs": [
        {
          "output_type": "stream",
          "name": "stdout",
          "text": [
            "[43, 65, 87, 90, 12, 34, 78, 56, 12]\n"
          ]
        }
      ]
    },
    {
      "cell_type": "code",
      "source": [],
      "metadata": {
        "id": "WYqUvVQb-tu5"
      },
      "execution_count": null,
      "outputs": []
    },
    {
      "cell_type": "markdown",
      "source": [
        "## 8. Sort a 1D Array in Ascending Order"
      ],
      "metadata": {
        "id": "v3WcGLkx-3WS"
      }
    },
    {
      "cell_type": "code",
      "source": [
        "#using sort()\n",
        "arr = [12,56,78,34,12,90,87,65,43]\n",
        "\n",
        "arr.sort()\n",
        "print(arr)\n",
        "\n",
        "arr.sort(reverse=True)\n",
        "print(arr)"
      ],
      "metadata": {
        "colab": {
          "base_uri": "https://localhost:8080/"
        },
        "id": "vhjYSJ9r-4UO",
        "outputId": "d2469d24-b93c-4564-ce91-58497a882377"
      },
      "execution_count": 11,
      "outputs": [
        {
          "output_type": "stream",
          "name": "stdout",
          "text": [
            "[12, 12, 34, 43, 56, 65, 78, 87, 90]\n",
            "[90, 87, 78, 65, 56, 43, 34, 12, 12]\n"
          ]
        }
      ]
    },
    {
      "cell_type": "code",
      "source": [
        "#Using sorted\n",
        "arr = [12,56,78,34,12,90,87,65,43]\n",
        "print(sorted(arr))"
      ],
      "metadata": {
        "colab": {
          "base_uri": "https://localhost:8080/"
        },
        "id": "cYw72DwE--VH",
        "outputId": "1081e189-2c9e-4198-ddeb-18456a1cab1b"
      },
      "execution_count": 33,
      "outputs": [
        {
          "output_type": "stream",
          "name": "stdout",
          "text": [
            "[12, 12, 34, 43, 56, 65, 78, 87, 90]\n"
          ]
        }
      ]
    },
    {
      "cell_type": "markdown",
      "source": [
        "## 9. Count Occurrences of an Element in a 1D Array"
      ],
      "metadata": {
        "id": "mAfZ0Jz-_Z8E"
      }
    },
    {
      "cell_type": "code",
      "source": [
        "arr = [1,2,3,1,2,3,1,1,2,3]\n",
        "\n",
        "cnt = arr.count(1)\n",
        "print(cnt)"
      ],
      "metadata": {
        "colab": {
          "base_uri": "https://localhost:8080/"
        },
        "id": "ZsuuHRVc_lt2",
        "outputId": "6c3bafce-9223-4eaf-bd4c-e3c66638afe0"
      },
      "execution_count": 12,
      "outputs": [
        {
          "output_type": "stream",
          "name": "stdout",
          "text": [
            "4\n"
          ]
        }
      ]
    },
    {
      "cell_type": "code",
      "source": [],
      "metadata": {
        "id": "kpqaaAHP_vux"
      },
      "execution_count": null,
      "outputs": []
    },
    {
      "cell_type": "markdown",
      "source": [
        "## 10. Check if an Element Exists in a 1D Array"
      ],
      "metadata": {
        "id": "F9qKKN_e_xsa"
      }
    },
    {
      "cell_type": "code",
      "source": [
        "arr = [12,56,78,34,12,90,87,65,43]\n",
        "\n",
        "print(3 in arr)\n",
        "print(78 in arr)"
      ],
      "metadata": {
        "colab": {
          "base_uri": "https://localhost:8080/"
        },
        "id": "QVJeep1-_81x",
        "outputId": "717f2a0a-5d02-40b2-be39-217bd6235a15"
      },
      "execution_count": 13,
      "outputs": [
        {
          "output_type": "stream",
          "name": "stdout",
          "text": [
            "False\n",
            "True\n"
          ]
        }
      ]
    },
    {
      "cell_type": "code",
      "source": [],
      "metadata": {
        "id": "nEQTyLawAEfa"
      },
      "execution_count": null,
      "outputs": []
    },
    {
      "cell_type": "markdown",
      "source": [
        "## 11. Find the Mean of a 1D Array"
      ],
      "metadata": {
        "id": "5LE6OLEuAG6v"
      }
    },
    {
      "cell_type": "code",
      "source": [
        "import builtins\n",
        "arr = [12,56,78,34,12,90,87,65,43]\n",
        "\n",
        "m = builtins.sum(arr) / len(arr)\n",
        "\n",
        "print(m)"
      ],
      "metadata": {
        "colab": {
          "base_uri": "https://localhost:8080/"
        },
        "id": "GCGVyt8vARFT",
        "outputId": "ed81d60d-1676-4c3d-e37a-0f2beaa0740d"
      },
      "execution_count": 21,
      "outputs": [
        {
          "output_type": "stream",
          "name": "stdout",
          "text": [
            "53.0\n"
          ]
        }
      ]
    },
    {
      "cell_type": "code",
      "source": [],
      "metadata": {
        "id": "lYOTsDtcAc_R"
      },
      "execution_count": null,
      "outputs": []
    },
    {
      "cell_type": "markdown",
      "source": [
        "## 12. Remove an Element from a 1D Array"
      ],
      "metadata": {
        "id": "2PyT2mG0BcF_"
      }
    },
    {
      "cell_type": "code",
      "source": [
        "arr = [12,56,78,34,12,90,87,65,43]\n",
        "\n",
        "print('Before Removing 78 ',arr)\n",
        "arr.remove(78)\n",
        "print('After Removing 78', arr)"
      ],
      "metadata": {
        "colab": {
          "base_uri": "https://localhost:8080/"
        },
        "id": "ZBL4fL8eBkri",
        "outputId": "6cb0dd70-8c8e-40e8-e135-5463b5f4a445"
      },
      "execution_count": 23,
      "outputs": [
        {
          "output_type": "stream",
          "name": "stdout",
          "text": [
            "Before Removing 78  [12, 56, 78, 34, 12, 90, 87, 65, 43]\n",
            "After Removing 78 [12, 56, 34, 12, 90, 87, 65, 43]\n"
          ]
        }
      ]
    },
    {
      "cell_type": "code",
      "source": [],
      "metadata": {
        "id": "Ykg0z1rVBz95"
      },
      "execution_count": null,
      "outputs": []
    },
    {
      "cell_type": "markdown",
      "source": [
        "## 13. Insert an Element at a Specific Position"
      ],
      "metadata": {
        "id": "aE5akxkNB9sj"
      }
    },
    {
      "cell_type": "code",
      "source": [
        "arr = [12,56,78,34,12,90,87,65,43]\n",
        "\n",
        "print('Original Array ',arr)\n",
        "arr.insert(2,786)\n",
        "print('786 inserted at index 2',arr)"
      ],
      "metadata": {
        "colab": {
          "base_uri": "https://localhost:8080/"
        },
        "id": "zqIouJbbCIcE",
        "outputId": "8e205cd5-a924-4c14-d8c4-aa29f81f10c0"
      },
      "execution_count": 24,
      "outputs": [
        {
          "output_type": "stream",
          "name": "stdout",
          "text": [
            "Original Array  [12, 56, 78, 34, 12, 90, 87, 65, 43]\n",
            "786 inserted at index 2 [12, 56, 786, 78, 34, 12, 90, 87, 65, 43]\n"
          ]
        }
      ]
    },
    {
      "cell_type": "code",
      "source": [],
      "metadata": {
        "id": "eNSXBez8CawS"
      },
      "execution_count": null,
      "outputs": []
    },
    {
      "cell_type": "markdown",
      "source": [],
      "metadata": {
        "id": "qyPOOTrrCeVw"
      }
    },
    {
      "cell_type": "markdown",
      "source": [
        "## 14. Merge Two 1D Arrays"
      ],
      "metadata": {
        "id": "5zi9vn0ECeke"
      }
    },
    {
      "cell_type": "code",
      "source": [
        "arr1 = [1,1,1,1,1]\n",
        "arr2 = [2,2,2,2,2]\n",
        "\n",
        "m_arr = arr1 + arr2\n",
        "print(m_arr)"
      ],
      "metadata": {
        "colab": {
          "base_uri": "https://localhost:8080/"
        },
        "id": "b385hFhwClIE",
        "outputId": "a9c3ac15-6e86-4c73-8b91-15b3e019710b"
      },
      "execution_count": 25,
      "outputs": [
        {
          "output_type": "stream",
          "name": "stdout",
          "text": [
            "[1, 1, 1, 1, 1, 2, 2, 2, 2, 2]\n"
          ]
        }
      ]
    },
    {
      "cell_type": "code",
      "source": [],
      "metadata": {
        "id": "mE31eWC3Cz_9"
      },
      "execution_count": null,
      "outputs": []
    },
    {
      "cell_type": "markdown",
      "source": [
        "## 15. Remove Duplicates from a 1D Array"
      ],
      "metadata": {
        "id": "02aZe_rjC2OD"
      }
    },
    {
      "cell_type": "code",
      "source": [
        "arr1 = [1,1,1,1,1]\n",
        "\n",
        "unique_arr = list(set(arr1))\n",
        "print(unique_arr)"
      ],
      "metadata": {
        "colab": {
          "base_uri": "https://localhost:8080/"
        },
        "id": "HWuCsyFiDDgK",
        "outputId": "620fd59e-aa39-43d3-eecb-bfe7dbbd0e39"
      },
      "execution_count": 29,
      "outputs": [
        {
          "output_type": "stream",
          "name": "stdout",
          "text": [
            "[1]\n"
          ]
        }
      ]
    },
    {
      "cell_type": "code",
      "source": [],
      "metadata": {
        "id": "e6X0IciPDUxm"
      },
      "execution_count": null,
      "outputs": []
    },
    {
      "cell_type": "markdown",
      "source": [
        "## 16. Find the Second Largest Element in a 1D Array"
      ],
      "metadata": {
        "id": "yxu0c_XjDfda"
      }
    },
    {
      "cell_type": "code",
      "source": [
        "arr = [12,56,78,34,12,90,87,65,43]\n",
        "\n",
        "arr.sort()\n",
        "print(arr[-2])"
      ],
      "metadata": {
        "colab": {
          "base_uri": "https://localhost:8080/"
        },
        "id": "8VBeYKogDuwU",
        "outputId": "287f0f58-1fdb-456d-c042-92d8bf3e6071"
      },
      "execution_count": 30,
      "outputs": [
        {
          "output_type": "stream",
          "name": "stdout",
          "text": [
            "87\n"
          ]
        }
      ]
    },
    {
      "cell_type": "code",
      "source": [],
      "metadata": {
        "id": "mEzLBuGZD3N3"
      },
      "execution_count": null,
      "outputs": []
    },
    {
      "cell_type": "markdown",
      "source": [
        "## 17. Rotate a 1D Array (Right Rotation)"
      ],
      "metadata": {
        "id": "IsCtQQGkD5dq"
      }
    },
    {
      "cell_type": "code",
      "source": [
        "arr = [12,56,78,34,12,90,87,65,43]\n",
        "\n",
        "arr = [arr[-1]] + arr[:-1]\n",
        "print(arr)"
      ],
      "metadata": {
        "colab": {
          "base_uri": "https://localhost:8080/"
        },
        "id": "JREWSbNcEFGr",
        "outputId": "ddd7db98-f8d3-4b00-8eeb-f9d5cd97efc4"
      },
      "execution_count": 32,
      "outputs": [
        {
          "output_type": "stream",
          "name": "stdout",
          "text": [
            "[43, 12, 56, 78, 34, 12, 90, 87, 65]\n"
          ]
        }
      ]
    },
    {
      "cell_type": "code",
      "source": [],
      "metadata": {
        "id": "W-xIIiuoE4B1"
      },
      "execution_count": null,
      "outputs": []
    }
  ]
}