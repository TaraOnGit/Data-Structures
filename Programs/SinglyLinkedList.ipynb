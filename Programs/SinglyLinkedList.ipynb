{
  "nbformat": 4,
  "nbformat_minor": 0,
  "metadata": {
    "colab": {
      "provenance": []
    },
    "kernelspec": {
      "name": "python3",
      "display_name": "Python 3"
    },
    "language_info": {
      "name": "python"
    }
  },
  "cells": [
    {
      "cell_type": "markdown",
      "metadata": {
        "id": "view-in-github"
      },
      "source": [
        "<a href=\"https://colab.research.google.com/github/TaraOnGit/Data-Structures/blob/master/Programs/SinglyLinkedList_Inserts.ipynb\" target=\"_parent\"><img src=\"https://colab.research.google.com/assets/colab-badge.svg\" alt=\"Open In Colab\"/></a>"
      ]
    },
    {
      "cell_type": "markdown",
      "source": [
        "# Singly Linked List"
      ],
      "metadata": {
        "id": "WdgH4-S3gi4n"
      }
    },
    {
      "cell_type": "code",
      "execution_count": 3,
      "metadata": {
        "id": "-3xpjAXwgg5Z"
      },
      "outputs": [],
      "source": [
        "class Node:\n",
        "  def __init__(self):\n",
        "    self.data = None\n",
        "    self.next = None\n"
      ]
    },
    {
      "cell_type": "code",
      "source": [
        "class SinglyLinkedList:\n",
        "  def __init__(self):\n",
        "    self.head = None\n",
        "    self.tail = None\n",
        "    self.length = 0\n",
        "\n",
        "  def traverse(self):\n",
        "    if self.length > 0:\n",
        "      current = self.head\n",
        "\n",
        "      while current != None:\n",
        "        print(current.data,'--->',end=' ')\n",
        "        current = current.next\n",
        "      print()\n",
        "    else:\n",
        "      print('Singly Linked List is empty')\n",
        "\n",
        "  def insert_at_beginning(self,data):\n",
        "    new_node = Node()\n",
        "    new_node.data = data\n",
        "\n",
        "    if self.length == 0:\n",
        "      new_node.next = None\n",
        "      self.head = new_node\n",
        "      self.tail = new_node\n",
        "      self.length += 1\n",
        "    else:\n",
        "      new_node.next = self.head\n",
        "      self.tail = self.head\n",
        "      self.head = new_node\n",
        "      self.length +=1\n",
        "\n",
        "    print('List after insertion at beginning')\n",
        "    self.traverse()\n",
        "\n",
        "  def append(self,data):\n",
        "      new_node = Node()\n",
        "      new_node.data = data\n",
        "\n",
        "      if self.length == 0:\n",
        "        new_node.next = None\n",
        "        self.head = new_node\n",
        "        self.tail = new_node\n",
        "        self.length += 1\n",
        "\n",
        "      else:\n",
        "        new_node.next = None\n",
        "        self.tail.next = new_node\n",
        "        self.tail = new_node\n",
        "        self.length += 1\n",
        "      print('\\nList after insertion at end')\n",
        "      self.traverse()\n",
        "\n",
        "  def insert_at_position(self,data,position):\n",
        "      if self.length == 0 or position > self.length:\n",
        "        print('\\nPosition Out of Bounds\\n')\n",
        "      else:\n",
        "        new_node = Node()\n",
        "        new_node.data = data\n",
        "\n",
        "        if position == 1:\n",
        "          self.insert_at_beginning(data)\n",
        "          pass\n",
        "        elif position == self.length:\n",
        "          self.append(data)\n",
        "        else:\n",
        "          current = self.head\n",
        "          for i in range(1,position-1):\n",
        "            current = current.next\n",
        "          new_node.next = current.next\n",
        "          current.next = new_node\n",
        "          self.length += 1\n",
        "        print('\\nList after insertion at position ', position)\n",
        "        self.traverse()\n",
        "\n",
        "  def delete_at_beginning(self):\n",
        "    if self.length == 0:\n",
        "      print('\\nList is empty\\n')\n",
        "    elif self.length == 1:\n",
        "      self.head = None\n",
        "      self.tail = None\n",
        "      self.length -= 1\n",
        "    else:\n",
        "      self.head = self.head.next\n",
        "      self.length -= 1\n",
        "    print('\\nList after deletion at beginning')\n",
        "    self.traverse()\n",
        "\n",
        "  def delete_at_end(self):\n",
        "    if self.length == 0:\n",
        "      print('\\nList is empty\\n')\n",
        "    elif self.length == 1:\n",
        "      self.head = None\n",
        "      self.tail = None\n",
        "      self.length -= 1\n",
        "    else:\n",
        "      current = self.head\n",
        "      for i in range(1,self.length-1): # length-1 because, current.next points to th next node\n",
        "        current = current.next\n",
        "      current.next = None\n",
        "      self.tail = current\n",
        "      self.length -= 1\n",
        "    print('\\nList after deletion at end')\n",
        "    self.traverse()\n",
        "\n",
        "  def delete_at_position(self,position):\n",
        "    if self.length == 0 or position > self.length:\n",
        "      print('\\nPosition Out of Bounds\\n')\n",
        "    elif position == 1:\n",
        "      self.delete_at_beginning()\n",
        "    elif position == self.length:\n",
        "      self.delete_at_end()\n",
        "    else:\n",
        "      current = self.head\n",
        "      for i in range(1,position-1):\n",
        "        current = current.next\n",
        "      current.next = current.next.next\n",
        "      self.length -= 1\n",
        "    print('\\nList after deletion at position ', position)\n",
        "    self.traverse()\n",
        "\n",
        "  def search(self,value):\n",
        "    self.traverse()\n",
        "    if self.length == 0:\n",
        "      print('\\nList is empty\\n')\n",
        "    else:\n",
        "      current = self.head\n",
        "      position = 1\n",
        "      while current != None:\n",
        "        if current.data == value:\n",
        "          print(value, ' found at position ',position)\n",
        "          break\n",
        "        else:\n",
        "          position += 1\n",
        "          current = current.next\n",
        "      if(position > self.length):\n",
        "        print(value, ' Not Found')\n",
        "\n",
        "  def reverse(self):\n",
        "    length = self.length\n",
        "    for i in range(1,length+1):\n",
        "      data = self.tail.data\n",
        "      print(i, data)\n",
        "      if i == 1:\n",
        "        self.insert_at_beginning(data)\n",
        "        self.delete_at_end()\n",
        "      elif i == self.length:\n",
        "        self.append(data)\n",
        "        self.delete_at_end()\n",
        "      else:\n",
        "        self.insert_at_position(data,i)\n",
        "        self.delete_at_end()\n",
        "    print('\\n Reversed List \\n')\n",
        "    self.traverse()"
      ],
      "metadata": {
        "id": "tjWuWq-vhyuY"
      },
      "execution_count": 58,
      "outputs": []
    },
    {
      "cell_type": "code",
      "source": [
        "sll = SinglyLinkedList()\n",
        "sll.traverse()\n",
        "sll.insert_at_position(15,4)\n",
        "sll.insert_at_beginning(10)\n",
        "sll.insert_at_beginning(20)\n",
        "sll.append(12)\n",
        "sll.insert_at_position(15,2)\n",
        "sll.insert_at_position(15,14)\n"
      ],
      "metadata": {
        "colab": {
          "base_uri": "https://localhost:8080/"
        },
        "id": "nHU0KRHdr8O2",
        "outputId": "dfd22213-685d-4ab9-e55a-aab99f1afe2f"
      },
      "execution_count": 59,
      "outputs": [
        {
          "output_type": "stream",
          "name": "stdout",
          "text": [
            "Singly Linked List is empty\n",
            "\n",
            "Position Out of Bounds\n",
            "\n",
            "List after insertion at beginning\n",
            "10 ---> \n",
            "List after insertion at beginning\n",
            "20 ---> 10 ---> \n",
            "\n",
            "List after insertion at end\n",
            "20 ---> 10 ---> 12 ---> \n",
            "\n",
            "List after insertion at position  2\n",
            "20 ---> 15 ---> 10 ---> 12 ---> \n",
            "\n",
            "Position Out of Bounds\n",
            "\n"
          ]
        }
      ]
    },
    {
      "cell_type": "code",
      "source": [
        "sll.reverse()"
      ],
      "metadata": {
        "colab": {
          "base_uri": "https://localhost:8080/"
        },
        "id": "gH1d-YfVBeTK",
        "outputId": "0e870a1f-aa5e-4b7e-9305-79bdefe26f4d"
      },
      "execution_count": 60,
      "outputs": [
        {
          "output_type": "stream",
          "name": "stdout",
          "text": [
            "1 12\n",
            "List after insertion at beginning\n",
            "12 ---> 20 ---> 15 ---> 10 ---> 12 ---> \n",
            "\n",
            "List after deletion at end\n",
            "12 ---> 20 ---> 15 ---> 10 ---> \n",
            "2 10\n",
            "\n",
            "List after insertion at position  2\n",
            "12 ---> 10 ---> 20 ---> 15 ---> 10 ---> \n",
            "\n",
            "List after deletion at end\n",
            "12 ---> 10 ---> 20 ---> 15 ---> \n",
            "3 15\n",
            "\n",
            "List after insertion at position  3\n",
            "12 ---> 10 ---> 15 ---> 20 ---> 15 ---> \n",
            "\n",
            "List after deletion at end\n",
            "12 ---> 10 ---> 15 ---> 20 ---> \n",
            "4 20\n",
            "\n",
            "List after insertion at end\n",
            "12 ---> 10 ---> 15 ---> 20 ---> 20 ---> \n",
            "\n",
            "List after deletion at end\n",
            "12 ---> 10 ---> 15 ---> 20 ---> \n",
            "\n",
            " Reversed List \n",
            "\n",
            "12 ---> 10 ---> 15 ---> 20 ---> \n"
          ]
        }
      ]
    },
    {
      "cell_type": "code",
      "source": [
        "sll.search(3)\n",
        "sll.search(20)\n",
        "sll.search(12)\n",
        "sll.search(15)\n",
        "sll.search(45)"
      ],
      "metadata": {
        "colab": {
          "base_uri": "https://localhost:8080/"
        },
        "id": "ypTNMKSjAnMp",
        "outputId": "43feb2ca-244d-47f5-dea1-cbdf0830b85e"
      },
      "execution_count": 7,
      "outputs": [
        {
          "output_type": "stream",
          "name": "stdout",
          "text": [
            "20 ---> 10 ---> 15 ---> 12 ---> \n",
            "3  Not Found\n",
            "20 ---> 10 ---> 15 ---> 12 ---> \n",
            "20  found at position  1\n",
            "20 ---> 10 ---> 15 ---> 12 ---> \n",
            "12  found at position  4\n",
            "20 ---> 10 ---> 15 ---> 12 ---> \n",
            "15  found at position  3\n",
            "20 ---> 10 ---> 15 ---> 12 ---> \n",
            "45  Not Found\n"
          ]
        }
      ]
    },
    {
      "cell_type": "code",
      "source": [
        "sll.delete_at_position(2)"
      ],
      "metadata": {
        "colab": {
          "base_uri": "https://localhost:8080/"
        },
        "id": "cjGFDRvP-Z8J",
        "outputId": "2dc6293a-fcf7-4222-d61b-382ca00c1598"
      },
      "execution_count": null,
      "outputs": [
        {
          "output_type": "stream",
          "name": "stdout",
          "text": [
            "\n",
            "List after deletion at position  2\n",
            "20 ---> 15 ---> 12 ---> \n"
          ]
        }
      ]
    },
    {
      "cell_type": "code",
      "source": [
        "sll.delete_at_beginning()\n",
        "sll.delete_at_end()\n",
        "sll.delete_at_end()\n",
        "sll.delete_at_beginning()\n",
        "sll.delete_at_end()"
      ],
      "metadata": {
        "colab": {
          "base_uri": "https://localhost:8080/"
        },
        "id": "0sM29OKbeDdy",
        "outputId": "091d5fb0-21a5-4379-b009-454830e5ad31"
      },
      "execution_count": 8,
      "outputs": [
        {
          "output_type": "stream",
          "name": "stdout",
          "text": [
            "\n",
            "List after deletion at beginning\n",
            "10 ---> 15 ---> 12 ---> \n",
            "\n",
            "List after deletion at end\n",
            "10 ---> 15 ---> \n",
            "\n",
            "List after deletion at end\n",
            "10 ---> \n",
            "\n",
            "List after deletion at beginning\n",
            "Singly Linked List is empty\n",
            "\n",
            "List is empty\n",
            "\n",
            "\n",
            "List after deletion at end\n",
            "Singly Linked List is empty\n"
          ]
        }
      ]
    },
    {
      "cell_type": "code",
      "source": [],
      "metadata": {
        "id": "ehIEGROjsHRF"
      },
      "execution_count": null,
      "outputs": []
    }
  ]
}