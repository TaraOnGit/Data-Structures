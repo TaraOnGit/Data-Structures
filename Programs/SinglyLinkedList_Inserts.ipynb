{
  "nbformat": 4,
  "nbformat_minor": 0,
  "metadata": {
    "colab": {
      "provenance": [],
      "authorship_tag": "ABX9TyODfpwGi2+uLBP/5+9/790Y",
      "include_colab_link": true
    },
    "kernelspec": {
      "name": "python3",
      "display_name": "Python 3"
    },
    "language_info": {
      "name": "python"
    }
  },
  "cells": [
    {
      "cell_type": "markdown",
      "metadata": {
        "id": "view-in-github",
        "colab_type": "text"
      },
      "source": [
        "<a href=\"https://colab.research.google.com/github/TaraOnGit/Data-Structures/blob/master/Programs/SinglyLinkedList_Inserts.ipynb\" target=\"_parent\"><img src=\"https://colab.research.google.com/assets/colab-badge.svg\" alt=\"Open In Colab\"/></a>"
      ]
    },
    {
      "cell_type": "markdown",
      "source": [
        "# Singly Linked List"
      ],
      "metadata": {
        "id": "WdgH4-S3gi4n"
      }
    },
    {
      "cell_type": "code",
      "execution_count": 2,
      "metadata": {
        "id": "-3xpjAXwgg5Z"
      },
      "outputs": [],
      "source": [
        "class Node:\n",
        "  def __init__(self):\n",
        "    self.data = None\n",
        "    self.next = None\n"
      ]
    },
    {
      "cell_type": "code",
      "source": [
        "class SinglyLinkedList:\n",
        "  def __init__(self):\n",
        "    self.head = None\n",
        "    self.tail = None\n",
        "    self.length = 0\n",
        "\n",
        "  def traverse(self):\n",
        "    if self.length > 0:\n",
        "      current = self.head\n",
        "\n",
        "      while current != None:\n",
        "        print(current.data,'--->',end=' ')\n",
        "        current = current.next\n",
        "      print()\n",
        "    else:\n",
        "      print('Singly Linked List is empty')\n",
        "\n",
        "  def insert_at_beginning(self,data):\n",
        "    new_node = Node()\n",
        "    new_node.data = data\n",
        "\n",
        "    if self.length == 0:\n",
        "      new_node.next = None\n",
        "      self.head = new_node\n",
        "      self.tail = new_node\n",
        "      self.length += 1\n",
        "    else:\n",
        "      new_node.next = self.head\n",
        "      self.tail = self.head\n",
        "      self.head = new_node\n",
        "      self.length +=1\n",
        "\n",
        "    print('List after insertion at beginning')\n",
        "    self.traverse()\n",
        "\n",
        "  def append(self,data):\n",
        "      new_node = Node()\n",
        "      new_node.data = data\n",
        "\n",
        "      if self.length == 0:\n",
        "        new_node.next = None\n",
        "        self.head = new_node\n",
        "        self.tail = new_node\n",
        "        self.length += 1\n",
        "\n",
        "      else:\n",
        "        new_node.next = None\n",
        "        self.tail.next = new_node\n",
        "        self.tail = new_node\n",
        "        self.length += 1\n",
        "      print('\\nList after insertion at end')\n",
        "      self.traverse()\n",
        "\n",
        "  def insert_at_position(self,data,position):\n",
        "      if self.length == 0 or position > self.length:\n",
        "        print('\\nPosition Out of Bounds\\n')\n",
        "      else:\n",
        "        new_node = Node()\n",
        "        new_node.data = data\n",
        "\n",
        "        if position == 1:\n",
        "          self.insert_at_beginning(data)\n",
        "        elif position == self.length:\n",
        "          self.append(data)\n",
        "        else:\n",
        "          current = self.head\n",
        "          for i in range(1,position):\n",
        "            current = current.next\n",
        "          new_node.next = current.next\n",
        "          current.next = new_node\n",
        "          self.length += 1\n",
        "        print('\\nList after insertion at position ', position)\n",
        "        self.traverse()"
      ],
      "metadata": {
        "id": "tjWuWq-vhyuY"
      },
      "execution_count": 19,
      "outputs": []
    },
    {
      "cell_type": "code",
      "source": [
        "sll = SinglyLinkedList()\n",
        "sll.traverse()\n",
        "sll.insert_at_position(15,4)\n",
        "sll.insert_at_beginning(10)\n",
        "sll.insert_at_beginning(20)\n",
        "sll.append(12)\n",
        "sll.insert_at_position(15,2)\n",
        "sll.insert_at_position(15,14)\n"
      ],
      "metadata": {
        "colab": {
          "base_uri": "https://localhost:8080/"
        },
        "id": "nHU0KRHdr8O2",
        "outputId": "f45062a3-24a9-48e3-b811-c296595c1ffe"
      },
      "execution_count": 20,
      "outputs": [
        {
          "output_type": "stream",
          "name": "stdout",
          "text": [
            "Singly Linked List is empty\n",
            "\n",
            "Position Out of Bounds\n",
            "\n",
            "List after insertion at beginning\n",
            "10 ---> \n",
            "List after insertion at beginning\n",
            "20 ---> 10 ---> \n",
            "\n",
            "List after insertion at end\n",
            "20 ---> 10 ---> 12 ---> \n",
            "\n",
            "List after insertion at position  2\n",
            "20 ---> 10 ---> 15 ---> 12 ---> \n",
            "\n",
            "Position Out of Bounds\n",
            "\n"
          ]
        }
      ]
    },
    {
      "cell_type": "code",
      "source": [],
      "metadata": {
        "id": "ehIEGROjsHRF"
      },
      "execution_count": null,
      "outputs": []
    }
  ]
}