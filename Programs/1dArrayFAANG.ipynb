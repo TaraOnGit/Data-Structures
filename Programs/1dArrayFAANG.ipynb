{
  "nbformat": 4,
  "nbformat_minor": 0,
  "metadata": {
    "colab": {
      "provenance": []
    },
    "kernelspec": {
      "name": "python3",
      "display_name": "Python 3"
    },
    "language_info": {
      "name": "python"
    }
  },
  "cells": [
    {
      "cell_type": "markdown",
      "source": [
        "# 1. Find the Maximum Subarray Sum (Kadane’s Algorithm)\n",
        "Problem: Given an integer array arr, find the contiguous subarray (containing at least one number) which has the largest sum and return its sum."
      ],
      "metadata": {
        "id": "zfrZZEwvQrQl"
      }
    },
    {
      "cell_type": "code",
      "source": [
        "# arr = [-2, 1, -3, 4, -1, 2, 1, -5, 4]\n",
        "\n",
        "def max_subarray_sum(arr):\n",
        "  global_max = arr[0]\n",
        "  local_max = arr[0]\n",
        "\n",
        "  for i in arr[1:]:\n",
        "    local_max = max(i, local_max + i)\n",
        "    global_max = max(global_max,local_max)\n",
        "\n",
        "  return global_max"
      ],
      "metadata": {
        "id": "NdFPUT7xQvPb"
      },
      "execution_count": 5,
      "outputs": []
    },
    {
      "cell_type": "code",
      "source": [
        "print(max_subarray_sum([-2, 1, -3, 4, -1, 2, 1, -5, 4]))"
      ],
      "metadata": {
        "colab": {
          "base_uri": "https://localhost:8080/"
        },
        "id": "wj9mau-UR1M7",
        "outputId": "344b9846-b65c-47ec-ba9d-5ff9c723935a"
      },
      "execution_count": 6,
      "outputs": [
        {
          "output_type": "stream",
          "name": "stdout",
          "text": [
            "6\n"
          ]
        }
      ]
    },
    {
      "cell_type": "code",
      "source": [],
      "metadata": {
        "id": "kjDriU5dR7Ua"
      },
      "execution_count": null,
      "outputs": []
    },
    {
      "cell_type": "markdown",
      "source": [
        "## 2. Two Sum Problem in a sorted array\n",
        "Problem: Given an array of integers arr and a target integer target, return the indices of the two numbers that add up to the target."
      ],
      "metadata": {
        "id": "8RFZ1mySTYYQ"
      }
    },
    {
      "cell_type": "code",
      "source": [
        "def two_sum_sorted(arr, target):\n",
        "  left = 0\n",
        "  right = len(arr) - 1\n",
        "  while left < right :\n",
        "    s = arr[left] + arr[right]\n",
        "    if s == target:\n",
        "      return [left, right]\n",
        "    elif s > target:\n",
        "      right = right - 1\n",
        "    else:\n",
        "      left = left + 1\n",
        "\n",
        "  return []"
      ],
      "metadata": {
        "id": "j1EcxqP4TZfl"
      },
      "execution_count": 36,
      "outputs": []
    },
    {
      "cell_type": "code",
      "source": [
        "print(two_sum_sorted([3, 5, 7, 12, 22, 23, 34, 45, 67, 88, 990], 68))"
      ],
      "metadata": {
        "colab": {
          "base_uri": "https://localhost:8080/"
        },
        "id": "F4szbHXPVCqM",
        "outputId": "0afe172d-2064-484d-c290-fa9d2278f665"
      },
      "execution_count": 37,
      "outputs": [
        {
          "output_type": "stream",
          "name": "stdout",
          "text": [
            "[5, 7]\n"
          ]
        }
      ]
    },
    {
      "cell_type": "code",
      "source": [],
      "metadata": {
        "id": "9Rq49OJzVIPD"
      },
      "execution_count": null,
      "outputs": []
    },
    {
      "cell_type": "markdown",
      "source": [
        "## 2. Two Sum Problem\n",
        "Problem: Given an array of integers arr and a target integer target, return the indices of the two numbers that add up to the target."
      ],
      "metadata": {
        "id": "mlHi7M3UbItc"
      }
    },
    {
      "cell_type": "code",
      "source": [
        "def two_sum_unsorted(arr, target):\n",
        "  tgt = target\n",
        "  arr = arr\n",
        "\n",
        "  for i in range(len(arr)):\n",
        "    for j in range(i+1,len(arr)):\n",
        "      if arr[i] + arr[j] == tgt:\n",
        "        return [i,j]\n",
        "  return []\n"
      ],
      "metadata": {
        "id": "8hbZJiOdbKy1"
      },
      "execution_count": 40,
      "outputs": []
    },
    {
      "cell_type": "code",
      "source": [
        "print(two_sum_unsorted([3, 5, 7, 12, 22, 45, 67, 88, 990, 23], 68))"
      ],
      "metadata": {
        "colab": {
          "base_uri": "https://localhost:8080/"
        },
        "id": "muqChSL4b9UE",
        "outputId": "d2437fe9-5115-4881-a05a-445668cc8459"
      },
      "execution_count": 41,
      "outputs": [
        {
          "output_type": "stream",
          "name": "stdout",
          "text": [
            "[5, 9]\n"
          ]
        }
      ]
    },
    {
      "cell_type": "markdown",
      "source": [
        "## 3. Reverse an Array\n",
        "Problem: Given an array, reverse the array in place (do not return a new array)."
      ],
      "metadata": {
        "id": "v1xGKEn5b8DA"
      }
    },
    {
      "cell_type": "code",
      "source": [
        "def reverse_arr(arr):\n",
        "  lft = 0\n",
        "  rt = len(arr) -1\n",
        "\n",
        "  while lft < rt :\n",
        "    arr[lft], arr[rt] = arr[rt], arr[lft]\n",
        "    lft += 1\n",
        "    rt -= 1\n",
        "  return arr"
      ],
      "metadata": {
        "id": "-1mTqsqOcUFh"
      },
      "execution_count": 3,
      "outputs": []
    },
    {
      "cell_type": "code",
      "source": [
        "arr = [3, 5, 7, 12, 22, 45, 67, 88, 990, 23]\n",
        "print(arr)\n",
        "print(reverse_arr(arr))\n"
      ],
      "metadata": {
        "colab": {
          "base_uri": "https://localhost:8080/"
        },
        "id": "-DHCWzeFgjkH",
        "outputId": "86e3fd04-2927-47dd-bf7c-b51ba67eed0d"
      },
      "execution_count": 19,
      "outputs": [
        {
          "output_type": "stream",
          "name": "stdout",
          "text": [
            "[3, 5, 7, 12, 22, 45, 67, 88, 990, 23]\n",
            "[23, 990, 88, 67, 45, 22, 12, 7, 5, 3]\n"
          ]
        },
        {
          "output_type": "execute_result",
          "data": {
            "text/plain": [
              "[990, 88, 67, 45, 22, 12, 7, 5, 3, 23]"
            ]
          },
          "metadata": {},
          "execution_count": 19
        }
      ]
    },
    {
      "cell_type": "markdown",
      "source": [
        "## 4. Find the Duplicate Number\n",
        "Problem: Given an array containing n + 1 integers where each integer is between 1 and n (inclusive), find the duplicate number."
      ],
      "metadata": {
        "id": "OWWVlOVvhLSR"
      }
    },
    {
      "cell_type": "code",
      "source": [
        "def find_duplicate(arr):\n",
        "  for i in arr:\n",
        "    if arr.count(i) > 1:\n",
        "      return i\n",
        "  return None"
      ],
      "metadata": {
        "id": "MSzhIrT0hDju"
      },
      "execution_count": 5,
      "outputs": []
    },
    {
      "cell_type": "code",
      "source": [
        "print(find_duplicate([1, 4, 2]))"
      ],
      "metadata": {
        "colab": {
          "base_uri": "https://localhost:8080/"
        },
        "id": "uZUzqeM4kJK5",
        "outputId": "c1d24467-0e1c-4f6f-9271-7d178449143f"
      },
      "execution_count": 8,
      "outputs": [
        {
          "output_type": "stream",
          "name": "stdout",
          "text": [
            "None\n"
          ]
        }
      ]
    },
    {
      "cell_type": "code",
      "source": [],
      "metadata": {
        "id": "JRdk3NfykL9B"
      },
      "execution_count": null,
      "outputs": []
    },
    {
      "cell_type": "markdown",
      "source": [
        "## 5. Move Zeros to the End\n",
        "Problem: Given an array, move all zeros to the end while maintaining the relative order of the non-zero elements."
      ],
      "metadata": {
        "id": "C4Fbw1R0kk9T"
      }
    },
    {
      "cell_type": "code",
      "source": [
        "def move_zeros(arr):\n",
        "\n",
        "  for i in range(len(arr)):\n",
        "    if arr[i] == 0:\n",
        "      arr.append(arr.pop(i))\n",
        "\n",
        "  return arr\n"
      ],
      "metadata": {
        "id": "VJ9yJUzNkn7-"
      },
      "execution_count": 21,
      "outputs": []
    },
    {
      "cell_type": "code",
      "source": [
        "arr = [3, 5, 7, 0, 22, 0, 67, 88, 0, 23]\n",
        "print(move_zeros(arr))"
      ],
      "metadata": {
        "colab": {
          "base_uri": "https://localhost:8080/"
        },
        "id": "HX6Ae3Bkmi2Q",
        "outputId": "19eefa48-5818-411a-c248-b3a3535712b3"
      },
      "execution_count": 22,
      "outputs": [
        {
          "output_type": "stream",
          "name": "stdout",
          "text": [
            "[3, 5, 7, 22, 67, 88, 23, 0, 0, 0]\n"
          ]
        }
      ]
    },
    {
      "cell_type": "markdown",
      "source": [
        "## 6. Find the Missing Number\n",
        "Problem: Given an array containing n distinct numbers taken from the range 1 to n+1, find the missing number."
      ],
      "metadata": {
        "id": "C59gRny0nQt7"
      }
    },
    {
      "cell_type": "code",
      "source": [
        "def missing_number(arr):\n",
        "  for i in range(1,len(arr)+2):\n",
        "    if i not in arr:\n",
        "      return i\n",
        "  return None"
      ],
      "metadata": {
        "id": "o-9FVFO2mux0"
      },
      "execution_count": 23,
      "outputs": []
    },
    {
      "cell_type": "code",
      "source": [
        "print(missing_number([1, 2, 3, 5, 6]))"
      ],
      "metadata": {
        "colab": {
          "base_uri": "https://localhost:8080/"
        },
        "id": "DIDOQFRlnuYi",
        "outputId": "800a1938-1645-4858-8324-be2c62fae3fa"
      },
      "execution_count": 25,
      "outputs": [
        {
          "output_type": "stream",
          "name": "stdout",
          "text": [
            "4\n"
          ]
        }
      ]
    },
    {
      "cell_type": "markdown",
      "source": [
        "## 7. Find the Majority Element\n",
        "Problem: Given an array, find the element that appears more than n/2 times, where n is the size of the array. Assume that such an element always exists."
      ],
      "metadata": {
        "id": "KOQAI5FioE0c"
      }
    },
    {
      "cell_type": "code",
      "source": [
        "#Majority means more than half\n",
        "def majority_element(arr):\n",
        "  for i in arr:\n",
        "    if arr.count(i) > len(arr) / 2:\n",
        "      return i\n",
        "  return None"
      ],
      "metadata": {
        "id": "ALx7ZfVQnxgl"
      },
      "execution_count": 26,
      "outputs": []
    },
    {
      "cell_type": "code",
      "source": [
        "print(majority_element([3, 3, 4, 2, 4, 4, 2, 4, 4]))"
      ],
      "metadata": {
        "colab": {
          "base_uri": "https://localhost:8080/",
          "height": 106
        },
        "id": "Y9Pq3ayyolRd",
        "outputId": "2adeea5d-5b1a-4d15-a19f-40a7a4e952dd"
      },
      "execution_count": 27,
      "outputs": [
        {
          "output_type": "error",
          "ename": "SyntaxError",
          "evalue": "incomplete input (<ipython-input-27-b5d8fc1e1eff>, line 1)",
          "traceback": [
            "\u001b[0;36m  File \u001b[0;32m\"<ipython-input-27-b5d8fc1e1eff>\"\u001b[0;36m, line \u001b[0;32m1\u001b[0m\n\u001b[0;31m    print(majority_element([3, 3, 4, 2, 4, 4, 2, 4, 4])\u001b[0m\n\u001b[0m                                                       ^\u001b[0m\n\u001b[0;31mSyntaxError\u001b[0m\u001b[0;31m:\u001b[0m incomplete input\n"
          ]
        }
      ]
    },
    {
      "cell_type": "code",
      "source": [],
      "metadata": {
        "id": "x5buo8Qlonnh"
      },
      "execution_count": null,
      "outputs": []
    },
    {
      "cell_type": "markdown",
      "source": [
        "# 8. Product of All Elements Except Self\n",
        "Problem: Given an array arr, return an array result such that result[i] is the product of all the elements in arr except arr[i].\n",
        "\n",
        "Example:\n",
        "\n",
        "python\n",
        "Copy code\n",
        "arr = [1, 2, 3, 4]\n",
        "# Output: [24, 12, 8, 6]"
      ],
      "metadata": {
        "id": "e7I8mMMHDA57"
      }
    },
    {
      "cell_type": "code",
      "source": [
        "def prod_all_except_self(arr):\n",
        "  res = []\n",
        "  for i in range(len(arr)):\n",
        "    prod = 1\n",
        "    for j in range(len(arr)):\n",
        "      if i!= j:\n",
        "        prod *= arr[j]\n",
        "        res.append(prod)\n",
        "  return res"
      ],
      "metadata": {
        "id": "9w8nCBNfDBwk"
      },
      "execution_count": 1,
      "outputs": []
    },
    {
      "cell_type": "code",
      "source": [
        "print(prod_all_except_self([1, 2, 3, 4]))"
      ],
      "metadata": {
        "colab": {
          "base_uri": "https://localhost:8080/"
        },
        "id": "qBbLGazADL1c",
        "outputId": "05c55974-1cad-4d22-d61e-ba037184fb9f"
      },
      "execution_count": 3,
      "outputs": [
        {
          "output_type": "stream",
          "name": "stdout",
          "text": [
            "[2, 6, 24, 1, 3, 12, 1, 2, 8, 1, 2, 6]\n"
          ]
        }
      ]
    },
    {
      "cell_type": "markdown",
      "source": [
        "# 9. Intersection of Two Arrays\n",
        "Problem: Given two arrays, return an array containing their intersection (common elements), without duplicates.\n",
        "\n",
        "Example:\n",
        "\n",
        "python\n",
        "Copy code\n",
        "arr1 = [1, 2, 2, 1]\n",
        "arr2 = [2, 2]\n",
        "# Output: [2]"
      ],
      "metadata": {
        "id": "8NgcZ3LkDGuP"
      }
    },
    {
      "cell_type": "code",
      "source": [
        "def arr_intersect(arr1,arr2):\n",
        "  a1 = arr1\n",
        "  a2 = arr2\n",
        "\n",
        "  if len(a1) < len(a2):\n",
        "    a1, a2 = a2, a1\n",
        "\n",
        "  res = []\n",
        "  for i in a1:\n",
        "    if i in a2:\n",
        "      res.append(i)\n",
        "  return res"
      ],
      "metadata": {
        "id": "tXDn0zNdhjGZ"
      },
      "execution_count": 7,
      "outputs": []
    },
    {
      "cell_type": "code",
      "source": [
        "print(arr_intersect([1, 2, 3, 2, 1], [2, 3, 2]))"
      ],
      "metadata": {
        "colab": {
          "base_uri": "https://localhost:8080/"
        },
        "id": "ab7BGeAwifwz",
        "outputId": "521a8fbd-7af5-4357-95b1-a5deb057fef6"
      },
      "execution_count": 9,
      "outputs": [
        {
          "output_type": "stream",
          "name": "stdout",
          "text": [
            "[2, 3, 2]\n"
          ]
        }
      ]
    },
    {
      "cell_type": "markdown",
      "source": [
        "# 10. Find the Peak Element\n",
        "Problem: A peak element in an array is an element that is greater than its neighbors. Find a peak element. You may assume that the array is non-empty.\n",
        "\n",
        "Example:\n",
        "\n",
        "python\n",
        "Copy code\n",
        "arr = [1, 3, 20, 4, 1, 0]\n",
        "# Output: 20 (or any peak element)"
      ],
      "metadata": {
        "id": "Doa_E5YiDNLv"
      }
    },
    {
      "cell_type": "code",
      "source": [
        "def peak(arr):\n",
        "  for i in range(len(arr)):\n",
        "    if i == 0:\n",
        "      if arr[i] > arr[i+1]:\n",
        "        return arr[i]\n",
        "    elif i == len(arr) - 1:\n",
        "      if arr[i] > arr[i-1]:\n",
        "        return arr[i]\n",
        "    else :\n",
        "      if arr[i] > arr[i-1] and arr[i] > arr[i+1]:\n",
        "        return arr[i]\n",
        "  return None\n",
        ""
      ],
      "metadata": {
        "id": "z8FE99NODSI5"
      },
      "execution_count": 10,
      "outputs": []
    },
    {
      "cell_type": "code",
      "source": [
        "print(peak([1, 3, 20, 24, 41, 0]))"
      ],
      "metadata": {
        "colab": {
          "base_uri": "https://localhost:8080/"
        },
        "id": "HE-JXO3ykpHN",
        "outputId": "b02459ef-c93d-4fdd-f475-a76b633f6efe"
      },
      "execution_count": 13,
      "outputs": [
        {
          "output_type": "stream",
          "name": "stdout",
          "text": [
            "41\n"
          ]
        }
      ]
    },
    {
      "cell_type": "code",
      "source": [],
      "metadata": {
        "id": "4E2RKlfakstT"
      },
      "execution_count": null,
      "outputs": []
    }
  ]
}