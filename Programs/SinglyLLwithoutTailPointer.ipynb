{
  "nbformat": 4,
  "nbformat_minor": 0,
  "metadata": {
    "colab": {
      "provenance": []
    },
    "kernelspec": {
      "name": "python3",
      "display_name": "Python 3"
    },
    "language_info": {
      "name": "python"
    }
  },
  "cells": [
    {
      "cell_type": "code",
      "execution_count": 94,
      "metadata": {
        "id": "HzQDF1eWGKSa"
      },
      "outputs": [],
      "source": [
        "class Node:\n",
        "  def __init__(self):\n",
        "    self.data = None\n",
        "    self.next = None\n",
        "\n",
        "class SinglyLinkedList:\n",
        "  def __init__(self):\n",
        "    self.head = None\n",
        "    self.length = 0\n",
        "\n",
        "  def is_empty(self):\n",
        "    return self.length == 0\n",
        "\n",
        "  def traverse(self):\n",
        "    if self.is_empty():\n",
        "      print('\\nList is Empty\\n')\n",
        "    else:\n",
        "      current_node = self.head\n",
        "      for i in range(self.length-1):\n",
        "        print(current_node.data,end=' -->')\n",
        "        current_node = current_node.next\n",
        "\n",
        "  def insert_at_beginning(self,data):\n",
        "    new_node = Node()\n",
        "    new_node.data = data\n",
        "    new_node.next = self.head\n",
        "    self.head = new_node\n",
        "    self.length += 1\n",
        "    print('\\n Node inserted at beginning\\n')\n",
        "\n",
        "  def insert_at_position(self,position,data):\n",
        "    new_node = Node()\n",
        "    new_node.data = data\n",
        "    if position == 1:\n",
        "      self.insert_at_beginning(data)\n",
        "    elif position < 1 or position > self.length + 1:\n",
        "      print('\\n Invalid Position\\n')\n",
        "    elif position == self.length + 1:\n",
        "      self.insert_at_end(data)\n",
        "    else:\n",
        "      current_node = self.head\n",
        "      for i in range(1,position-1):\n",
        "        current_node = current_node.next\n",
        "      new_node.next = current_node.next\n",
        "      current_node.next = new_node\n",
        "      self.length += 1\n",
        "      print('\\nNode inserted at position {}\\n'.format(position))\n",
        "\n",
        "  def insert_at_end(self,data):\n",
        "    if self.is_empty():\n",
        "      self.insert_at_beginning(data)\n",
        "    else:\n",
        "      current_node = self.head\n",
        "      for i in range(1,self.length-1):\n",
        "        current_node = current_node.next\n",
        "      new_node = Node()\n",
        "      new_node.data = data\n",
        "      new_node.next = None\n",
        "      current_node.next = new_node\n",
        "      self.length += 1\n",
        "      print('\\nNode inserted at end\\n')\n",
        "\n",
        "  def delete_at_beginning(self):\n",
        "    if self.is_empty():\n",
        "      print('\\nList is Empty\\n')\n",
        "    else:\n",
        "      self.head = self.head.next\n",
        "      self.length -= 1\n",
        "      print('\\nDeleted node at beginning\\n')\n",
        "\n",
        "  def delete_at_position(self,position):\n",
        "    if self.is_empty():\n",
        "      print('\\nList is Empty\\n')\n",
        "    else:\n",
        "      if position == 1:\n",
        "        self.delete_at_beginning()\n",
        "      elif position == self.length:\n",
        "        self.delete_at_end()\n",
        "      elif position < 1 or position > self.length:\n",
        "        print('\\nInvalid Position\\n')\n",
        "      else:\n",
        "        current_node = self.head\n",
        "        for i in range(1,position-1):\n",
        "          current_node = current_node.next\n",
        "\n",
        "        node_to_delete = current_node.next\n",
        "        current_node.next = node_to_delete.next\n",
        "        self.length -= 1\n",
        "        print('\\nNode deleted at position {}\\n'.format(position))\n",
        "\n",
        "  def delete_at_end(self):\n",
        "    if self.is_empty():\n",
        "      print('\\nList is Empty\\n')\n",
        "    else:\n",
        "      current_node = self.head\n",
        "      for i in range(1,self.length-1):\n",
        "        current_node = current_node.next\n",
        "      current_node.next = None\n",
        "      self.length -= 1\n",
        "      print('\\nDeleted node at end\\n')\n"
      ]
    },
    {
      "cell_type": "code",
      "source": [
        "sll = SinglyLinkedList()\n",
        "\n",
        "sll.insert_at_position(3,8)\n",
        "sll.insert_at_end(8)\n",
        "sll.insert_at_beginning(8)\n",
        "sll.insert_at_position(2,9)\n",
        "sll.insert_at_position(2,10)\n",
        "sll.insert_at_end(12)"
      ],
      "metadata": {
        "colab": {
          "base_uri": "https://localhost:8080/"
        },
        "id": "OILkjcbuL5RF",
        "outputId": "29e0604c-fea5-4022-e3b7-4cc080559729"
      },
      "execution_count": 100,
      "outputs": [
        {
          "output_type": "stream",
          "name": "stdout",
          "text": [
            "\n",
            " Invalid Position\n",
            "\n",
            "\n",
            " Node inserted at beginning\n",
            "\n",
            "\n",
            " Node inserted at beginning\n",
            "\n",
            "\n",
            "Node inserted at position 2\n",
            "\n",
            "\n",
            "Node inserted at position 2\n",
            "\n",
            "\n",
            "Node inserted at end\n",
            "\n"
          ]
        }
      ]
    },
    {
      "cell_type": "code",
      "source": [
        "sll.traverse()"
      ],
      "metadata": {
        "colab": {
          "base_uri": "https://localhost:8080/"
        },
        "id": "fv5V5KlvMTfI",
        "outputId": "2e011660-38e1-4849-d92a-49bdb1469309"
      },
      "execution_count": 101,
      "outputs": [
        {
          "output_type": "stream",
          "name": "stdout",
          "text": [
            "8 -->10 -->9 -->12 -->"
          ]
        }
      ]
    },
    {
      "cell_type": "code",
      "source": [
        "sll.traverse()\n",
        "print()\n",
        "sll.traverse()\n"
      ],
      "metadata": {
        "colab": {
          "base_uri": "https://localhost:8080/"
        },
        "id": "Z4iThc9iNWaY",
        "outputId": "3ee103fd-a54a-4ec2-db54-680e3259b87e"
      },
      "execution_count": 102,
      "outputs": [
        {
          "output_type": "stream",
          "name": "stdout",
          "text": [
            "8 -->10 -->9 -->12 -->\n",
            "8 -->10 -->9 -->12 -->"
          ]
        }
      ]
    },
    {
      "cell_type": "code",
      "source": [
        "sll.traverse()"
      ],
      "metadata": {
        "colab": {
          "base_uri": "https://localhost:8080/"
        },
        "id": "4tNA-k6-RyLL",
        "outputId": "c64476b0-f509-4530-8b83-b0724c41237c"
      },
      "execution_count": 103,
      "outputs": [
        {
          "output_type": "stream",
          "name": "stdout",
          "text": [
            "8 -->10 -->9 -->12 -->"
          ]
        }
      ]
    },
    {
      "cell_type": "code",
      "source": [
        "sll.delete_at_position(3)\n",
        "sll.traverse()\n",
        "sll.delete_at_position(2)\n",
        "sll.traverse()\n",
        "sll.delete_at_beginning()\n",
        "sll.traverse()\n",
        "sll.delete_at_end()\n",
        "sll.traverse()"
      ],
      "metadata": {
        "colab": {
          "base_uri": "https://localhost:8080/"
        },
        "id": "qRw3ewV5WsRE",
        "outputId": "0f04ce3d-23fd-47a5-f94b-6d854424ff4e"
      },
      "execution_count": 104,
      "outputs": [
        {
          "output_type": "stream",
          "name": "stdout",
          "text": [
            "\n",
            "Node deleted at position 3\n",
            "\n",
            "8 -->10 -->12 -->\n",
            "Node deleted at position 2\n",
            "\n",
            "8 -->12 -->\n",
            "Deleted node at beginning\n",
            "\n",
            "12 -->\n",
            "Deleted node at end\n",
            "\n"
          ]
        }
      ]
    },
    {
      "cell_type": "code",
      "source": [],
      "metadata": {
        "id": "SLjrikAzXtbl"
      },
      "execution_count": null,
      "outputs": []
    }
  ]
}