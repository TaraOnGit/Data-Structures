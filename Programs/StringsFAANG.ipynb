{
  "nbformat": 4,
  "nbformat_minor": 0,
  "metadata": {
    "colab": {
      "provenance": []
    },
    "kernelspec": {
      "name": "python3",
      "display_name": "Python 3"
    },
    "language_info": {
      "name": "python"
    }
  },
  "cells": [
    {
      "cell_type": "markdown",
      "source": [
        "# 1. Palindrome Check\n",
        "Problem: Write a function to check whether a given string is a palindrome or not (i.e., it reads the same forward and backward).\n",
        "\n",
        "Why it's useful for ML: Palindrome checking is useful in natural language processing (NLP) tasks such as text normalization, sequence alignment, or even data cleaning when dealing with structured text data."
      ],
      "metadata": {
        "id": "DMaLAm7q7cVm"
      }
    },
    {
      "cell_type": "code",
      "source": [
        "def str_palindrome(str1):\n",
        "  return str1 == str1[::-1]"
      ],
      "metadata": {
        "id": "7T-p9Yhu7ilL"
      },
      "execution_count": null,
      "outputs": []
    },
    {
      "cell_type": "code",
      "source": [
        "print(str_palindrome('madam'))\n",
        "print(str_palindrome('hello'))"
      ],
      "metadata": {
        "colab": {
          "base_uri": "https://localhost:8080/"
        },
        "id": "ysb75S5s7yIo",
        "outputId": "4afe95e9-4bf8-4c41-c8e1-7a19385f0031"
      },
      "execution_count": null,
      "outputs": [
        {
          "output_type": "stream",
          "name": "stdout",
          "text": [
            "True\n",
            "False\n"
          ]
        }
      ]
    },
    {
      "cell_type": "code",
      "source": [],
      "metadata": {
        "id": "edddNxNy74H_"
      },
      "execution_count": null,
      "outputs": []
    },
    {
      "cell_type": "markdown",
      "source": [
        "# 2. Anagram Check\n",
        "Problem: Given two strings, write a function to check whether one string is an anagram of the other (i.e., they contain the same characters in the same frequency).\n",
        "\n",
        "Why it's useful for ML: Anagram checking is crucial in text normalization tasks, feature engineering for text, and deduplication in document retrieval systems."
      ],
      "metadata": {
        "id": "2BH6GOf18F2S"
      }
    },
    {
      "cell_type": "code",
      "source": [
        "from collections import Counter\n",
        "\n",
        "def str_anagram(str1,str2):\n",
        "  return Counter(str1) == Counter(str2)"
      ],
      "metadata": {
        "id": "HETN5ly98Tfv"
      },
      "execution_count": null,
      "outputs": []
    },
    {
      "cell_type": "code",
      "source": [
        "print(str_anagram('listen','silent'))\n",
        "print(str_anagram('hello','world'))"
      ],
      "metadata": {
        "colab": {
          "base_uri": "https://localhost:8080/"
        },
        "id": "Qrrh4mld8k2C",
        "outputId": "4c813891-7b45-486f-9bbf-0cffb9ad7ec3"
      },
      "execution_count": null,
      "outputs": [
        {
          "output_type": "stream",
          "name": "stdout",
          "text": [
            "True\n",
            "False\n"
          ]
        }
      ]
    },
    {
      "cell_type": "code",
      "source": [],
      "metadata": {
        "id": "1ZMijD6H88pJ"
      },
      "execution_count": null,
      "outputs": []
    },
    {
      "cell_type": "markdown",
      "source": [
        "# 3. Longest Substring Without Repeating Characters\n",
        "Problem: Given a string, find the length of the longest substring that contains no repeating characters."
      ],
      "metadata": {
        "id": "mtDzKiWq9QXS"
      }
    },
    {
      "cell_type": "code",
      "source": [
        "def longest_substring(str1):\n",
        "  longest = ''\n",
        "  current = ''\n",
        "\n",
        "  for i in str1:\n",
        "    if i not in current:\n",
        "      current += i\n",
        "    else:\n",
        "      if len(current) > len(longest):\n",
        "        longest = current\n",
        "      current = i\n",
        "  return longest\n"
      ],
      "metadata": {
        "id": "J6UNX0Mt9RWF"
      },
      "execution_count": null,
      "outputs": []
    },
    {
      "cell_type": "code",
      "source": [
        "print(longest_substring('abcdfabcdeabcabba'))"
      ],
      "metadata": {
        "colab": {
          "base_uri": "https://localhost:8080/"
        },
        "id": "dtIPiPaP-dhU",
        "outputId": "c6a6b251-5235-4389-e794-4943c66c92dc"
      },
      "execution_count": null,
      "outputs": [
        {
          "output_type": "stream",
          "name": "stdout",
          "text": [
            "abcdf\n"
          ]
        }
      ]
    },
    {
      "cell_type": "code",
      "source": [],
      "metadata": {
        "id": "vplVujzH-oiB"
      },
      "execution_count": null,
      "outputs": []
    },
    {
      "cell_type": "markdown",
      "source": [
        "# 4. String Compression (Run-Length Encoding)\n",
        "Problem: Implement a basic form of string compression using run-length encoding (RLE). If the string has repeating characters, replace them with the character followed by the number of occurrences. For example, \"aabbbcc\" should become \"a2b3c2\"."
      ],
      "metadata": {
        "id": "9kRxNEbREHUu"
      }
    },
    {
      "cell_type": "code",
      "source": [
        "def string_compression(str1):\n",
        "  string1 = str1\n",
        "  string_set = set(string1)\n",
        "  compressed_string = ''\n",
        "\n",
        "  for i in sorted(string_set):\n",
        "    compressed_string += i + str(string1.count(i))\n",
        "\n",
        "  return compressed_string"
      ],
      "metadata": {
        "id": "SUPUxiReEJAY"
      },
      "execution_count": null,
      "outputs": []
    },
    {
      "cell_type": "code",
      "source": [
        "print(string_compression('aabbbccddddddd'))"
      ],
      "metadata": {
        "colab": {
          "base_uri": "https://localhost:8080/"
        },
        "id": "gk5i5eYFFHi9",
        "outputId": "d8a1f677-150d-42a5-c2c0-15691f4e3742"
      },
      "execution_count": null,
      "outputs": [
        {
          "output_type": "stream",
          "name": "stdout",
          "text": [
            "a2b3c2d7\n"
          ]
        }
      ]
    },
    {
      "cell_type": "code",
      "source": [],
      "metadata": {
        "id": "nOlVqr9JFbGa"
      },
      "execution_count": null,
      "outputs": []
    },
    {
      "cell_type": "markdown",
      "source": [
        "# 5. Substring Search (Rabin-Karp Algorithm)\n",
        "Problem: Implement a substring search algorithm, like the Rabin-Karp algorithm, to find all occurrences of a pattern within a given string."
      ],
      "metadata": {
        "id": "mtlIJD2sF8YW"
      }
    },
    {
      "cell_type": "code",
      "source": [
        "def search_substring(str1,pattern):\n",
        "  pattern = pattern\n",
        "  string1 = str1\n",
        "\n",
        "  result = []\n",
        "  for i in range(len(string1)):\n",
        "    if pattern in string1 and pattern[0] == string1[i]:\n",
        "      result.append(i)\n",
        "  return result\n"
      ],
      "metadata": {
        "id": "FI1dJR69GQq7"
      },
      "execution_count": null,
      "outputs": []
    },
    {
      "cell_type": "code",
      "source": [
        "#print(search_substring('hello world hello world hello hello hello world world world','world'))\n",
        "print(search_substring('hello world hello world hello hello hello world world world','world'))"
      ],
      "metadata": {
        "colab": {
          "base_uri": "https://localhost:8080/"
        },
        "id": "IRKXzg4tHtmm",
        "outputId": "18c1d317-d0a2-4b65-848d-7fc7c89cb533"
      },
      "execution_count": null,
      "outputs": [
        {
          "output_type": "stream",
          "name": "stdout",
          "text": [
            "[6, 18, 42, 48, 54]\n"
          ]
        }
      ]
    },
    {
      "cell_type": "code",
      "source": [],
      "metadata": {
        "id": "LvvguhI8KCQb"
      },
      "execution_count": null,
      "outputs": []
    },
    {
      "cell_type": "markdown",
      "source": [
        "# 6. Word Count (from a Large Text)\n",
        "Problem: Given a large block of text (like a document or paragraph), write a function to count the occurrences of each word.\n",
        "\n",
        "Why it's useful for ML: This is a classic NLP problem, useful in text classification, topic modeling, and sentiment analysis where you need to analyze the frequency of terms in a document."
      ],
      "metadata": {
        "id": "LDS2aqZaXTpQ"
      }
    },
    {
      "cell_type": "code",
      "source": [
        "\n",
        "def word_count(text):\n",
        "  words = text.split()\n",
        "\n",
        "  word_cnt = []\n",
        "  for i in set(words):\n",
        "    word_cnt.append((i,words.count(i)))\n",
        "\n",
        "  return word_cnt"
      ],
      "metadata": {
        "id": "4zG62v2rXYPb"
      },
      "execution_count": null,
      "outputs": []
    },
    {
      "cell_type": "code",
      "source": [
        "print(word_count(\"It's so cold. I am shivering. Get me a blanket. cold.\"))"
      ],
      "metadata": {
        "colab": {
          "base_uri": "https://localhost:8080/"
        },
        "id": "tsz_TV9iX3zx",
        "outputId": "d7bb322b-c7f7-4ab9-8b2c-136079fcedf7"
      },
      "execution_count": null,
      "outputs": [
        {
          "output_type": "stream",
          "name": "stdout",
          "text": [
            "[('blanket.', 1), ('cold.', 2), (\"It's\", 1), ('shivering.', 1), ('Get', 1), ('am', 1), ('a', 1), ('me', 1), ('so', 1), ('I', 1)]\n"
          ]
        }
      ]
    },
    {
      "cell_type": "code",
      "source": [
        "s1, s2 = 4 , 5\n",
        "dp = [[0] * (s2 + 1) for _ in range(s1 + 1)]"
      ],
      "metadata": {
        "id": "SekIEq_Nxbty"
      },
      "execution_count": null,
      "outputs": []
    },
    {
      "cell_type": "code",
      "source": [
        "dp"
      ],
      "metadata": {
        "colab": {
          "base_uri": "https://localhost:8080/"
        },
        "id": "X7jdbEN-YEFE",
        "outputId": "518e3af1-975a-4c5d-c6cd-1aaef62e8c15"
      },
      "execution_count": null,
      "outputs": [
        {
          "output_type": "execute_result",
          "data": {
            "text/plain": [
              "[[0, 0, 0, 0, 0, 0],\n",
              " [0, 0, 0, 0, 0, 0],\n",
              " [0, 0, 0, 0, 0, 0],\n",
              " [0, 0, 0, 0, 0, 0],\n",
              " [0, 0, 0, 0, 0, 0]]"
            ]
          },
          "metadata": {},
          "execution_count": 2
        }
      ]
    },
    {
      "cell_type": "markdown",
      "source": [
        "# 7. Levenshtein Distance (Edit Distance)\n",
        "Problem: Implement a function to compute the Levenshtein distance (edit distance) between two strings. This is the minimum number of operations (insertions, deletions, substitutions) required to convert one string into the other."
      ],
      "metadata": {
        "id": "m3wPneGl0aWI"
      }
    },
    {
      "cell_type": "code",
      "source": [
        "def levenshtein_distance(s1: str, s2: str) -> int:\n",
        "    len_s1, len_s2 = len(s1), len(s2)\n",
        "    dp = [[0] * (len_s2 + 1) for _ in range(len_s1 + 1)]\n",
        "\n",
        "    for i in range(len_s1 + 1):\n",
        "        for j in range(len_s2 + 1):\n",
        "            if i == 0:\n",
        "                dp[i][j] = j\n",
        "            elif j == 0:\n",
        "                dp[i][j] = i\n",
        "            elif s1[i-1] == s2[j-1]:\n",
        "                dp[i][j] = dp[i-1][j-1]\n",
        "            else:\n",
        "                dp[i][j] = 1 + min(dp[i-1][j], dp[i][j-1], dp[i-1][j-1])\n",
        "\n",
        "    return dp[len_s1][len_s2]\n"
      ],
      "metadata": {
        "id": "pOtlR4uWxr6b"
      },
      "execution_count": null,
      "outputs": []
    },
    {
      "cell_type": "code",
      "source": [
        "print(levenshtein_distance(\"kitten\", \"sitting\"))"
      ],
      "metadata": {
        "colab": {
          "base_uri": "https://localhost:8080/"
        },
        "id": "zwOSZoHI0lNn",
        "outputId": "8d8254b8-e128-4487-cdce-12fcdc97e6be"
      },
      "execution_count": null,
      "outputs": [
        {
          "output_type": "stream",
          "name": "stdout",
          "text": [
            "3\n"
          ]
        }
      ]
    },
    {
      "cell_type": "code",
      "source": [],
      "metadata": {
        "id": "iMkCvZyX0xpO"
      },
      "execution_count": null,
      "outputs": []
    }
  ]
}